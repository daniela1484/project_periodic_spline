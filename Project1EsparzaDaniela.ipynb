{
  "nbformat": 4,
  "nbformat_minor": 0,
  "metadata": {
    "colab": {
      "provenance": []
    },
    "kernelspec": {
      "name": "python3",
      "display_name": "Python 3"
    },
    "language_info": {
      "name": "python"
    }
  },
  "cells": [
    {
      "cell_type": "code",
      "execution_count": null,
      "metadata": {
        "id": "lEoe2OX_ipDa"
      },
      "outputs": [],
      "source": [
        "!pip install regressio --upgrade\n",
        "from regressio.datagen import generate_random_walk"
      ]
    },
    {
      "cell_type": "code",
      "source": [
        "import numpy as np\n",
        "import math\n",
        "import matplotlib.pyplot as plt\n",
        "\n",
        "# Input Data\n",
        "x, y = np.asarray([0, (math.pi/6), (math.pi/3), (math.pi/2), (2*math.pi)/3, (5*math.pi)/6, math.pi]), np.asarray([0, 1/2, 87/100, 1, 87/100, 1/2, 0])\n",
        "\n",
        "# Calculate\n",
        "v = np.array([0, 1/2, 1/2, 87/100, 87/100, 1, 1, 87/100, 87/100, 1/2, 1/2, 0, 0, 0, 0, 0, 0, 0, 0, 0, 0, 0, 0, 0], dtype = np.float64)\n",
        "A = np.array([[0,0,0,1,0,0,0,0,0,0,0,0,0,0,0,0,0,0,0,0,0,0,0,0],\n",
        "              [(math.pow(math.pi,3))/216, (math.pow(math.pi,2))/36, math.pi/6, 1, 0,0,0,0,0,0,0,0,0,0,0,0,0,0,0,0,0,0,0,0],\n",
        "              [0,0,0,0, (math.pow(math.pi, 3))/216, (math.pow(math.pi,2))/36, math.pi/6, 1, 0,0,0,0,0,0,0,0,0,0,0,0,0,0,0,0],\n",
        "              [0,0,0,0, (math.pow(math.pi, 3))/27, (math.pow(math.pi, 2))/9, math.pi/3, 1, 0,0,0,0,0,0,0,0,0,0,0,0,0,0,0,0],\n",
        "              [0,0,0,0,0,0,0,0, (math.pow(math.pi, 3))/27, (math.pow(math.pi, 2))/9, math.pi/3, 1, 0,0,0,0,0,0,0,0,0,0,0,0],\n",
        "              [0,0,0,0,0,0,0,0, (math.pow(math.pi, 3))/8, (math.pow(math.pi, 2))/4, math.pi/2, 1, 0,0,0,0,0,0,0,0,0,0,0,0],\n",
        "              [0,0,0,0,0,0,0,0,0,0,0,0, (math.pow(math.pi, 3))/8, (math.pow(math.pi, 2))/4, math.pi/2, 1, 0,0,0,0,0,0,0,0],\n",
        "              [0,0,0,0,0,0,0,0,0,0,0,0, (8*math.pow(math.pi, 3))/27, (4*math.pow(math.pi, 2))/9, (2*math.pi)/3, 1, 0,0,0,0,0,0,0,0],\n",
        "              [0,0,0,0,0,0,0,0,0,0,0,0,0,0,0,0, (8*math.pow(math.pi, 3))/27, (4*math.pow(math.pi, 2))/9, (2*math.pi)/3, 1, 0,0,0,0],\n",
        "              [0,0,0,0,0,0,0,0,0,0,0,0,0,0,0,0, (125*math.pow(math.pi, 3))/216, (25*math.pow(math.pi, 2))/36, (5*math.pi)/6, 1, 0,0,0,0],\n",
        "              [0,0,0,0,0,0,0,0,0,0,0,0,0,0,0,0,0,0,0,0, (125*math.pow(math.pi, 3))/216, (25*math.pow(math.pi, 2))/36, (5*math.pi)/6, 1],\n",
        "              [0,0,0,0,0,0,0,0,0,0,0,0,0,0,0,0,0,0,0,0, math.pow(math.pi, 3), math.pow(math.pi, 2), math.pi, 1],\n",
        "              [(math.pow(math.pi, 2))/12, math.pi/3, 1, 0, (-1*math.pow(math.pi, 2))/12, (-1*math.pi)/3, -1, 0,0,0,0,0,0,0,0,0,0,0,0,0,0,0,0,0],\n",
        "              [0,0,0,0, (math.pow(math.pi, 2))/3, (2*math.pi)/3, 1, 0, (-1*math.pow(math.pi, 2))/3, (-2*math.pi)/3, -1, 0,0,0,0,0,0,0,0,0,0,0,0,0],\n",
        "              [0,0,0,0,0,0,0,0, (3*math.pow(math.pi, 2))/4, math.pi, 1, 0, (-3*math.pow(math.pi, 2))/4, (-1*math.pi), -1, 0,0,0,0,0,0,0,0,0],\n",
        "              [0,0,0,0,0,0,0,0,0,0,0,0, (4*math.pow(math.pi, 2))/3, (4*math.pi)/3, 1, 0, (-4*math.pow(math.pi, 2))/3, (-4*math.pi)/3, -1, 0,0,0,0,0],\n",
        "              [0,0,0,0,0,0,0,0,0,0,0,0,0,0,0,0, (25*math.pow(math.pi, 2))/12, (5*math.pi)/3, 1, 0, (-25*math.pow(math.pi, 2))/12, (-5*math.pi)/3, -1, 0],\n",
        "              [math.pi, 2, 0,0, (-1*math.pi), -2, 0,0,0,0,0,0,0,0,0,0,0,0,0,0,0,0,0,0],\n",
        "              [0,0,0,0, 2*math.pi, 2, 0,0, (-2*math.pi), -2, 0,0,0,0,0,0,0,0,0,0,0,0,0,0],\n",
        "              [0,0,0,0,0,0,0,0, 3*math.pi, 2, 0,0, (-3*math.pi), -2, 0,0,0,0,0,0,0,0,0,0],\n",
        "              [0,0,0,0,0,0,0,0,0,0,0,0, 4*math.pi, 2, 0,0, (-4*math.pi), -2, 0,0,0,0,0,0],\n",
        "              [0,0,0,0,0,0,0,0,0,0,0,0,0,0,0,0, 5*math.pi, 2, 0,0, (-5*math.pi), -2, 0,0],\n",
        "              [0,0, -1, 0, 0,0,0,0,0,0,0,0,0,0,0,0,0,0,0,0, (3*math.pow(math.pi, 2)), 2*math.pi, 1,0],\n",
        "              [0, -2, 0,0,0,0,0,0,0,0,0,0,0,0,0,0,0,0,0,0, 6*math.pi, 2, 0,0]], dtype = np.float64)\n",
        "\n",
        "\n",
        "# Calculates [a1,b1,c1,..., b6,c6,d6]' = inv(A) * v =\n",
        "lines = np.dot(np.linalg.inv(A), v)#.reshape(-1, 4)\n",
        "\n",
        "print(lines)"
      ],
      "metadata": {
        "id": "gSPfu5y5AXrE",
        "colab": {
          "base_uri": "https://localhost:8080/"
        },
        "outputId": "f31763e7-4d5c-4d17-f2be-ce9fb8d3c597"
      },
      "execution_count": 2,
      "outputs": [
        {
          "output_type": "stream",
          "name": "stdout",
          "text": [
            "[-2.81439790e+00  3.29739660e+00  1.43773882e-14  0.00000000e+00\n",
            "  5.71239178e-01 -2.02074969e+00  2.78457488e+00 -4.86000000e-01\n",
            " -2.36855269e-01  5.17953891e-01  1.26050715e-01  4.42000000e-01\n",
            "  2.36855269e-01 -1.71435443e+00  3.63255242e+00 -1.39400000e+00\n",
            " -5.71239178e-01  3.36305273e+00 -7.00154426e+00  6.03000000e+00\n",
            "  2.81439790e+00 -2.32276787e+01  6.26128279e+01 -5.47200000e+01]\n"
          ]
        }
      ]
    }
  ]
}